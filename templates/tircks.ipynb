{
 "cells": [
  {
   "cell_type": "markdown",
   "metadata": {},
   "source": [
    "Sort array to make removing duplication easier."
   ]
  },
  {
   "cell_type": "markdown",
   "metadata": {},
   "source": [
    "To initialize a list of list, use list compresion instead of [[]] * 10\n",
    "\n",
    "rst = [[ ] for i in range(10)]"
   ]
  },
  {
   "cell_type": "markdown",
   "metadata": {},
   "source": [
    "The keys of a python dictionary cannot be a list, but can be a tuple. So cast lists to tuples to use them as keys of a dictionary."
   ]
  },
  {
   "cell_type": "markdown",
   "metadata": {},
   "source": [
    "Get the sum of a series of numbers. Example (1,2,3,4) --> 1234. Do this recursively, (((1*10+2)*10+3)*10+4). Example Leetcode 129."
   ]
  },
  {
   "cell_type": "markdown",
   "metadata": {},
   "source": [
    "Visit Matrix:\n",
    "\n",
    "directions = [(-1, 0), (1, 0), (0, -1), (0, 1)]\n",
    "\n",
    "Then for the four element in directions add the coordinates into the current coordinate (check whether in the boundary). E.g. Leetcode 542\n"
   ]
  },
  {
   "cell_type": "markdown",
   "metadata": {},
   "source": [
    "### Bounds\n",
    "\n",
    "Get the left middle: mid = left + (right - left) // 2\n",
    "\n",
    "Get the right middle mid = right - (right - left) // 2 "
   ]
  },
  {
   "cell_type": "markdown",
   "metadata": {},
   "source": [
    "### Checking if two intervals overlap\n",
    "\n",
    "Be familiar with writing code to check if two intervals overlap. Use the code below:"
   ]
  },
  {
   "cell_type": "code",
   "execution_count": null,
   "metadata": {},
   "outputs": [],
   "source": [
    "def is_overlap(a, b):\n",
    "    return a[0] < b[1] and b[0] < a[1]"
   ]
  },
  {
   "cell_type": "markdown",
   "metadata": {},
   "source": [
    "### Merging two intervals\n",
    "\n",
    "Use the code below. a and b are both intervals.\n"
   ]
  },
  {
   "cell_type": "code",
   "execution_count": null,
   "metadata": {},
   "outputs": [],
   "source": [
    "def merge_overlapping_intervals(a, b):\n",
    "    return [min(a[0], b[0]), max(a[1], b[1])]"
   ]
  },
  {
   "cell_type": "markdown",
   "metadata": {},
   "source": [
    "## Remove the most significant digit.\n",
    "\n",
    "4500 % 1000 = 500 (4 is removed)"
   ]
  },
  {
   "cell_type": "markdown",
   "metadata": {},
   "source": [
    "## Reverse a string or list\n",
    "string = 'abcde'\n",
    "\n",
    "reversed_string = string[::-1]\n",
    "\n",
    "lst = [1,2,3,4]\n",
    "\n",
    "reversed_lst = lst[::-1]"
   ]
  },
  {
   "cell_type": "markdown",
   "metadata": {},
   "source": [
    "## Use prefixsum to compute matrix sum in constant time."
   ]
  },
  {
   "cell_type": "markdown",
   "metadata": {},
   "source": [
    "### Template problem\n",
    "\n",
    "Leetcode 1292. Maximum Side Length of a Square with Sum Less than or Equal to Threshold\n",
    "\n",
    "https://leetcode.com/problems/maximum-side-length-of-a-square-with-sum-less-than-or-equal-to-threshold/"
   ]
  },
  {
   "cell_type": "markdown",
   "metadata": {},
   "source": [
    "## Deep copy a 2-D array \n",
    "\n",
    "copy.deepcopy() is slow, use list compresion instead."
   ]
  },
  {
   "cell_type": "markdown",
   "metadata": {},
   "source": [
    "## Compare two arrays (whether two arrays have exact same elements):\n",
    "\n",
    "a == b\n"
   ]
  },
  {
   "cell_type": "markdown",
   "metadata": {},
   "source": [
    "#### Rotation array or matrix\n",
    "\n",
    "Try reverse/transpose the array/matrix (maybe more than once)\n",
    "\n",
    "Example: Leetcode 189"
   ]
  },
  {
   "cell_type": "markdown",
   "metadata": {},
   "source": [
    "### Check whether a string is a palindrom\n",
    "\n",
    "Use the following function. It is faster than the normal while loop method."
   ]
  },
  {
   "cell_type": "raw",
   "metadata": {},
   "source": [
    "def is_palindrome(check):\n",
    "    return check == check[::-1]"
   ]
  },
  {
   "cell_type": "markdown",
   "metadata": {},
   "source": [
    "### Toggle between upper and lower cases"
   ]
  },
  {
   "cell_type": "raw",
   "metadata": {},
   "source": [
    "The difference of ASCII between a lower-case letter and its corresponding\n",
    "upper-case letter is 32, e.g., ord('a') - ord('A') = 32. Thus, do bitwise \n",
    "XOR of the ASCII of the letter with 32 will change lower case to upper case\n",
    "and Vice versa\n",
    "chr(ord('A') ^ 32) is 'a'\n",
    "chr(ord('a') ^ 32) is 'A'"
   ]
  },
  {
   "cell_type": "markdown",
   "metadata": {},
   "source": [
    "### Iterate (roll over) a number from 0 to 9"
   ]
  },
  {
   "cell_type": "raw",
   "metadata": {},
   "source": [
    "## roll up 1, 2, ... 9, 0, 1...\n",
    "(n + 1 + 10) % 10\n",
    "\n",
    "## roll down 1, 2, ... 9, 0, 1...\n",
    "(n - 1 + 10) % 10"
   ]
  },
  {
   "cell_type": "raw",
   "metadata": {},
   "source": []
  }
 ],
 "metadata": {
  "kernelspec": {
   "display_name": "Python 3.7.6 ('base')",
   "language": "python",
   "name": "python3"
  },
  "language_info": {
   "name": "python",
   "version": "3.7.6"
  },
  "orig_nbformat": 4,
  "vscode": {
   "interpreter": {
    "hash": "ad2bdc8ecc057115af97d19610ffacc2b4e99fae6737bb82f5d7fb13d2f2c186"
   }
  }
 },
 "nbformat": 4,
 "nbformat_minor": 2
}
