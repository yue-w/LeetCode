{
 "cells": [
  {
   "cell_type": "markdown",
   "metadata": {},
   "source": [
    "Sort array to make removing duplication easier."
   ]
  },
  {
   "cell_type": "markdown",
   "metadata": {},
   "source": [
    "To initialize a list of list, use list compresion instead of [[]] * 10\n",
    "\n",
    "rst = [[ ] for i in range(10)]"
   ]
  },
  {
   "cell_type": "markdown",
   "metadata": {},
   "source": [
    "The keys of a python dictionary cannot be a list, but can be a tuple. So cast lists to tuples to use them as keys of a dictionary."
   ]
  },
  {
   "cell_type": "markdown",
   "metadata": {},
   "source": [
    "Get the sum of a series of numbers. Example (1,2,3,4) --> 1234. Do this recursively, (((1*10+2)*10+3)*10+4). Example Leetcode 129."
   ]
  },
  {
   "cell_type": "markdown",
   "metadata": {},
   "source": [
    "Visit Matrix:\n",
    "\n",
    "directions = [(-1, 0), (1, 0), (0, -1), (0, 1)]\n",
    "\n",
    "Then for the four element in directions add the coordinates into the current coordinate (check whether in the boundary). E.g. Leetcode 542\n"
   ]
  },
  {
   "cell_type": "markdown",
   "metadata": {},
   "source": [
    "### Bounds\n",
    "\n",
    "Get the left middle: mid = left + (right - left) // 2\n",
    "\n",
    "Get the right middle mid = right - (right - left) // 2 "
   ]
  },
  {
   "cell_type": "markdown",
   "metadata": {},
   "source": [
    "### Checking if two intervals overlap\n",
    "\n",
    "Be familiar with writing code to check if two intervals overlap. Use the code below:"
   ]
  },
  {
   "cell_type": "code",
   "execution_count": null,
   "metadata": {},
   "outputs": [],
   "source": [
    "def is_overlap(a, b):\n",
    "    return a[0] < b[1] and b[0] < a[1]"
   ]
  },
  {
   "cell_type": "markdown",
   "metadata": {},
   "source": [
    "### Merging two intervals\n",
    "\n",
    "Use the code below. a and b are both intervals.\n"
   ]
  },
  {
   "cell_type": "code",
   "execution_count": null,
   "metadata": {},
   "outputs": [],
   "source": [
    "def merge_overlapping_intervals(a, b):\n",
    "    return [min(a[0], b[0]), max(a[1], b[1])]"
   ]
  },
  {
   "cell_type": "markdown",
   "metadata": {},
   "source": [
    "Remove the most significant digit.\n",
    "\n",
    "4500 % 1000 = 500 (4 is removed)"
   ]
  },
  {
   "cell_type": "markdown",
   "metadata": {},
   "source": [
    "## Get the last n digits of an integer"
   ]
  },
  {
   "cell_type": "code",
   "execution_count": 2,
   "metadata": {},
   "outputs": [
    {
     "name": "stdout",
     "output_type": "stream",
     "text": [
      "6789\n"
     ]
    }
   ],
   "source": [
    "number = 123456789\n",
    "n = 4\n",
    "print(number % (10**4))"
   ]
  },
  {
   "cell_type": "markdown",
   "metadata": {},
   "source": [
    "## Reverse a string or list\n",
    "string = 'abcde'\n",
    "\n",
    "reversed_string = string[::-1]\n",
    "\n",
    "lst = [1,2,3,4]\n",
    "\n",
    "reversed_lst = lst[::-1]"
   ]
  },
  {
   "cell_type": "markdown",
   "metadata": {},
   "source": [
    "## Use prefixsum to compute matrix sum in constant time."
   ]
  },
  {
   "cell_type": "markdown",
   "metadata": {},
   "source": [
    "### Template problem\n",
    "\n",
    "Leetcode 1292. Maximum Side Length of a Square with Sum Less than or Equal to Threshold\n",
    "\n",
    "https://leetcode.com/problems/maximum-side-length-of-a-square-with-sum-less-than-or-equal-to-threshold/"
   ]
  },
  {
   "cell_type": "markdown",
   "metadata": {},
   "source": [
    "## Deep copy a 2-D array \n",
    "\n",
    "copy.deepcopy() is slow, use list compresion instead."
   ]
  },
  {
   "cell_type": "markdown",
   "metadata": {},
   "source": [
    "## Compare two arrays (whether two arrays have exact same elements):\n",
    "\n",
    "a == b\n"
   ]
  },
  {
   "cell_type": "markdown",
   "metadata": {},
   "source": [
    "#### Rotation array or matrix\n",
    "\n",
    "Try reverse/transpose the array/matrix (maybe more than once)\n",
    "\n",
    "Example: Leetcode 189"
   ]
  },
  {
   "cell_type": "markdown",
   "metadata": {},
   "source": [
    "### Check whether a string is a palindrom\n",
    "\n",
    "Use the following function. It is faster than the normal while loop method."
   ]
  },
  {
   "cell_type": "raw",
   "metadata": {},
   "source": [
    "def is_palindrome(check):\n",
    "    return check == check[::-1]"
   ]
  },
  {
   "cell_type": "markdown",
   "metadata": {},
   "source": [
    "### Toggle between upper and lower cases"
   ]
  },
  {
   "cell_type": "raw",
   "metadata": {},
   "source": [
    "The difference of ASCII between a lower-case letter and its corresponding\n",
    "upper-case letter is 32, e.g., ord('a') - ord('A') = 32. Thus, do bitwise \n",
    "XOR of the ASCII of the letter with 32 will change lower case to upper case\n",
    "and Vice versa\n",
    "chr(ord('A') ^ 32) is 'a'\n",
    "chr(ord('a') ^ 32) is 'A'"
   ]
  },
  {
   "cell_type": "markdown",
   "metadata": {},
   "source": [
    "### Rolling index (roll over)"
   ]
  },
  {
   "cell_type": "raw",
   "metadata": {},
   "source": [
    "## roll down 0, 1, 2, ..., k - 1. \n",
    "## -1 becomes k - 1, and k becomes 0\n",
    "(n + k) % k\n",
    "\n",
    "## roll over of characters\n",
    "diff = (ord(char) - ord('a') + shifts % 26 + 26) % 26\n",
    "new_char = chr(diff + ord('a')"
   ]
  },
  {
   "cell_type": "markdown",
   "metadata": {},
   "source": [
    "### Transpose a matrix"
   ]
  },
  {
   "cell_type": "code",
   "execution_count": null,
   "metadata": {},
   "outputs": [],
   "source": [
    "## method 1\n",
    "array = [[1,2,3],[4,5,6]]\n",
    "array_T = list(map(list, zip(*array)))\n",
    "print(array)\n",
    "print(array_T)\n",
    "\n",
    "## method 2 \n",
    "array = [[1,2,3],[4,5,6]]\n",
    "M = len(array)\n",
    "N = len(array[0])\n",
    "array_T = [[0 for _ in range(M)] for _ in range(N)]\n",
    "for i in range(M):\n",
    "    for j in range(N):\n",
    "        array_T[j][i] = array[i][j]"
   ]
  },
  {
   "cell_type": "markdown",
   "metadata": {},
   "source": [
    "### Sort a list of list"
   ]
  },
  {
   "cell_type": "raw",
   "metadata": {},
   "source": [
    "To sort a list of list by ascending order for first element and descending order \n",
    "for second element:"
   ]
  },
  {
   "cell_type": "code",
   "execution_count": 7,
   "metadata": {},
   "outputs": [
    {
     "name": "stdout",
     "output_type": "stream",
     "text": [
      "[(0, 100), (1, 10), (3, 40), (3, 30), (4, 50)]\n"
     ]
    }
   ],
   "source": [
    "array = [(3, 30), (3, 40), (1, 10), (4,50), (0, 100)]\n",
    "array.sort(key=lambda x: (x[0], -x[1]))\n",
    "print(array)"
   ]
  },
  {
   "cell_type": "markdown",
   "metadata": {},
   "source": [
    "### Count the number of 1s in a number (hamming weight)"
   ]
  },
  {
   "cell_type": "code",
   "execution_count": null,
   "metadata": {},
   "outputs": [],
   "source": [
    "def bit_count_one(self, n: int) -> int:\n",
    "    count = 0\n",
    "    while n:\n",
    "        count += 1\n",
    "        n &= n - 1\n",
    "    return count"
   ]
  },
  {
   "cell_type": "markdown",
   "metadata": {},
   "source": [
    "## Least common multiple (lcm) and greatest common divisor\n",
    "\n",
    "Use the greatest common divisor to compute least common multiple with the formula: \n",
    "lcm(a,b) = abs(a*b)/gcd(a,b)"
   ]
  },
  {
   "cell_type": "markdown",
   "metadata": {},
   "source": [
    "## Binary and digit"
   ]
  },
  {
   "cell_type": "code",
   "execution_count": 5,
   "metadata": {},
   "outputs": [
    {
     "name": "stdout",
     "output_type": "stream",
     "text": [
      "0b1111011\n",
      "123\n"
     ]
    }
   ],
   "source": [
    "## digit to binary\n",
    "print(bin(123))\n",
    "## binary to digigt\n",
    "print(int('0b1111011', 2))"
   ]
  },
  {
   "cell_type": "markdown",
   "metadata": {},
   "source": [
    "## Change a number to base b"
   ]
  },
  {
   "cell_type": "code",
   "execution_count": null,
   "metadata": {},
   "outputs": [],
   "source": [
    "def to_base_b(n, b):\n",
    "    digits = []\n",
    "    while n:\n",
    "        v = n % b\n",
    "        digits.append(v)\n",
    "        n = n // b\n",
    "    return digits"
   ]
  }
 ],
 "metadata": {
  "kernelspec": {
   "display_name": "Python 3.10.4 ('base')",
   "language": "python",
   "name": "python3"
  },
  "language_info": {
   "codemirror_mode": {
    "name": "ipython",
    "version": 3
   },
   "file_extension": ".py",
   "mimetype": "text/x-python",
   "name": "python",
   "nbconvert_exporter": "python",
   "pygments_lexer": "ipython3",
   "version": "3.10.4"
  },
  "orig_nbformat": 4,
  "vscode": {
   "interpreter": {
    "hash": "606b8a5f429b6146689379cbec89454aef7b40de488cf180ccd096de6f14a39b"
   }
  }
 },
 "nbformat": 4,
 "nbformat_minor": 2
}
