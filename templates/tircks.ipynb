{
 "cells": [
  {
   "cell_type": "markdown",
   "metadata": {},
   "source": [
    "Sort array to make removing duplication easier."
   ]
  },
  {
   "cell_type": "markdown",
   "metadata": {},
   "source": [
    "To initialize a list of list, use list compresion instead of [[]] * 10\n",
    "\n",
    "rst = [[ ] for i in range(10)]"
   ]
  },
  {
   "cell_type": "markdown",
   "metadata": {},
   "source": [
    "The keys of a python dictionary cannot be a list, but can be a tuple. So cast lists to tuples to use them as keys of a dictionary."
   ]
  },
  {
   "cell_type": "markdown",
   "metadata": {},
   "source": [
    "Get the sum of a series of numbers. Example (1,2,3,4) --> 1234. Do this recursively, (((1*10+2)*10+3)*10+4). Example Leetcode 129."
   ]
  },
  {
   "cell_type": "markdown",
   "metadata": {},
   "source": [
    "Visit Matrix:\n",
    "\n",
    "directions = [(-1, 0), (1, 0), (0, -1), (0, 1)]\n",
    "\n",
    "Then for the four element in directions add the coordinates into the current coordinate (check whether in the boundary). E.g. Leetcode 542\n"
   ]
  },
  {
   "cell_type": "markdown",
   "metadata": {},
   "source": [
    "### Bounds\n",
    "\n",
    "Get the left middle: mid = left + (right - left) // 2\n",
    "\n",
    "Get the right middle mid = right - (right - left) // 2 "
   ]
  },
  {
   "cell_type": "markdown",
   "metadata": {},
   "source": [
    "### Checking if two intervals overlap\n",
    "\n",
    "Be familiar with writing code to check if two intervals overlap. Use the code below:"
   ]
  },
  {
   "cell_type": "code",
   "execution_count": null,
   "metadata": {},
   "outputs": [],
   "source": [
    "def is_overlap(a, b):\n",
    "    return a[0] < b[1] and b[0] < a[1]"
   ]
  },
  {
   "cell_type": "markdown",
   "metadata": {},
   "source": [
    "### Merging two intervals\n",
    "\n",
    "Use the code below. a and b are both intervals.\n"
   ]
  },
  {
   "cell_type": "code",
   "execution_count": null,
   "metadata": {},
   "outputs": [],
   "source": [
    "def merge_overlapping_intervals(a, b):\n",
    "    return [min(a[0], b[0]), max(a[1], b[1])]"
   ]
  },
  {
   "cell_type": "markdown",
   "metadata": {},
   "source": [
    "## Remove the most significant digit.\n",
    "\n",
    "1500 % 1000 = 500 (1 is removed)"
   ]
  },
  {
   "cell_type": "markdown",
   "metadata": {},
   "source": []
  }
 ],
 "metadata": {
  "interpreter": {
   "hash": "b3ba2566441a7c06988d0923437866b63cedc61552a5af99d1f4fb67d367b25f"
  },
  "kernelspec": {
   "display_name": "Python 3.7.6 ('base')",
   "language": "python",
   "name": "python3"
  },
  "language_info": {
   "name": "python",
   "version": "3.7.6"
  },
  "orig_nbformat": 4
 },
 "nbformat": 4,
 "nbformat_minor": 2
}
