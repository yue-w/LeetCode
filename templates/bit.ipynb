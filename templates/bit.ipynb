{
 "cells": [
  {
   "cell_type": "markdown",
   "metadata": {},
   "source": [
    "### Get the last digit of binary\n",
    "\n",
    "n & 1"
   ]
  },
  {
   "cell_type": "markdown",
   "metadata": {},
   "source": [
    "#### XOR\n",
    "\n",
    "a ^ b = b ^ a\n",
    "\n",
    "a ^ (b ^ c) = (a ^ b) ^ c\n",
    "\n",
    "a ^ 0 = a\n",
    "\n",
    "a ^ a = 0"
   ]
  },
  {
   "cell_type": "markdown",
   "metadata": {},
   "source": [
    "### Add a one to the binary form of a number\n",
    "\n",
    "n | (1 << i), where i is the bits needed to represent n. Leetcode example 89."
   ]
  },
  {
   "cell_type": "markdown",
   "metadata": {},
   "source": []
  }
 ],
 "metadata": {
  "language_info": {
   "name": "python"
  },
  "orig_nbformat": 4
 },
 "nbformat": 4,
 "nbformat_minor": 2
}
