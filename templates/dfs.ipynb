{
 "cells": [
  {
   "cell_type": "markdown",
   "metadata": {},
   "source": [
    "### Template for recursion:\n",
    "\n",
    "Use template for recursion Bottom-up and Top-bottom."
   ]
  },
  {
   "cell_type": "markdown",
   "metadata": {},
   "source": [
    "Examples:\n",
    "\n",
    "98, 110, 113, 236, 450, 508, 99. "
   ]
  },
  {
   "cell_type": "markdown",
   "metadata": {},
   "source": [
    "### Template for iteration in order:"
   ]
  },
  {
   "cell_type": "code",
   "execution_count": null,
   "metadata": {},
   "outputs": [],
   "source": [
    "def dfs_iteration_inorder_LNR(root):\n",
    "\trst = []\n",
    "\tstack = []\n",
    "\tpointer = root \n",
    "\twhile stack or pointer:\n",
    "\t\twhile pointer:\n",
    "\t\t\tstack.append(pointer)\n",
    "\t\t\tpointer = pointer.left\n",
    "\t\tpointer = stack.pop()\n",
    "\t\trst.append(pointer.value)\n",
    "\t\tpointer = pointer.right\n",
    "\n",
    "\treturn rst\n"
   ]
  },
  {
   "cell_type": "markdown",
   "metadata": {},
   "source": [
    "### Template for iteration preorder:"
   ]
  },
  {
   "cell_type": "markdown",
   "metadata": {},
   "source": []
  }
 ],
 "metadata": {
  "language_info": {
   "name": "python"
  },
  "orig_nbformat": 4
 },
 "nbformat": 4,
 "nbformat_minor": 2
}
