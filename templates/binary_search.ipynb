{
 "cells": [
  {
   "cell_type": "markdown",
   "metadata": {},
   "source": [
    "## Template for finding the exact value\n",
    "\n"
   ]
  },
  {
   "cell_type": "markdown",
   "metadata": {},
   "source": [
    "Initialize:\n",
    "left = 0, right = len(array) - 1\n",
    "\n",
    "condition for looping: \n",
    "\n",
    "left <= right\n",
    "\n",
    "Update in looping:\n",
    "\n",
    "left = mid + 1 or right = mid - 1\n"
   ]
  },
  {
   "cell_type": "markdown",
   "metadata": {},
   "source": [
    "Example (Leetcode 704): Given an array of integers nums which is sorted in ascending order, and an integer target, write a function to search target in nums. If target exists, then return its index. Otherwise, return -1.\n",
    "\n",
    "Input: nums = [-1,0,3,5,9,12], target = 9\n",
    "\n",
    "Output: 4\n"
   ]
  },
  {
   "cell_type": "code",
   "execution_count": 2,
   "metadata": {},
   "outputs": [],
   "source": [
    "\"\"\"\n",
    "Binary search, find the exact value.\n",
    "if the target value is in nums, return the index of target, otherwise, return -1\n",
    "\"\"\"\n",
    "def recursion(self, nums, target, left, right):\n",
    "    ## Base case\n",
    "    if left > right:\n",
    "        return - 1\n",
    "    mid = left + (right - left) // 2\n",
    "    if nums[mid] == target:\n",
    "        return mid\n",
    "    elif nums[mid] < target:\n",
    "        left = mid + 1 \n",
    "    else:\n",
    "        right = mid - 1\n",
    "    return recursion(nums, target, left, right)\n",
    "\n",
    "def iteration(self, nums, target):\n",
    "    left = 0\n",
    "    right = len(nums) - 1\n",
    "\n",
    "    while left <= right:\n",
    "        mid = left + (right - left) // 2\n",
    "        if nums[mid] == target:\n",
    "            return mid\n",
    "        elif nums[mid] < target:\n",
    "            left = mid + 1\n",
    "        else:\n",
    "            right = mid - 1\n",
    "    return -1"
   ]
  },
  {
   "cell_type": "markdown",
   "metadata": {},
   "source": [
    "## Template for finding the first occurance not smaller than the target:\n",
    "\n",
    "Initialize:\n",
    "left = 0, right = len(array) - 1\n",
    "\n",
    "mid = left + (right - left) // 2  ## Use the left if even number of numbers\n",
    "\n",
    "condition for looping: \n",
    "\n",
    "left < right\n",
    "\n",
    "Update in looping:\n",
    "\n",
    "left = mid + 1 or right = mid\n"
   ]
  },
  {
   "cell_type": "markdown",
   "metadata": {},
   "source": [
    "Example: from nums, return the index of the fist element not less than target\n",
    "\n",
    "Input: nums = [-1,0,3, 4, 4, 5,9,12], target = 4\n",
    "\n",
    "Output: 3"
   ]
  },
  {
   "cell_type": "code",
   "execution_count": 7,
   "metadata": {},
   "outputs": [
    {
     "data": {
      "text/plain": [
       "3"
      ]
     },
     "execution_count": 7,
     "metadata": {},
     "output_type": "execute_result"
    }
   ],
   "source": [
    "\"\"\"\n",
    "Binary search, find the first occurance not smaller than target.\n",
    "\"\"\"\n",
    "def first_occurance(nums, target):\n",
    "    left = 0\n",
    "    right = len(nums) - 1\n",
    "    while left < right:\n",
    "        mid = left + (right - left) // 2\n",
    "        if nums[mid] < target:\n",
    "            left = mid + 1\n",
    "        else:\n",
    "            right = mid\n",
    "    return left\n",
    "\n",
    "nums = [-1,0,3, 4, 4, 5,9,12]\n",
    "target = 4\n",
    "first_occurance(nums, target)"
   ]
  },
  {
   "cell_type": "markdown",
   "metadata": {},
   "source": [
    "## Template for finding the last occurance not larger than target:\n",
    "\n",
    "Initialize:\n",
    "\n",
    "left = 0, right = len(array) - 1\n",
    "\n",
    "mid = left + (right - left + 1) // 2  ## use the right if even numbers\n",
    "\n",
    "condition for looping: \n",
    "\n",
    "left < right\n",
    "\n",
    "Update in looping:\n",
    "\n",
    "left = mid or right = mid - 1\n",
    "\n"
   ]
  },
  {
   "cell_type": "markdown",
   "metadata": {},
   "source": [
    "Example: from nums, return the index of the last occurance\n",
    "\n",
    "Input: nums = [-1,0,3, 4, 4, 5,9,12], target = 4\n",
    "\n",
    "Output: 4"
   ]
  },
  {
   "cell_type": "code",
   "execution_count": 11,
   "metadata": {},
   "outputs": [
    {
     "data": {
      "text/plain": [
       "4"
      ]
     },
     "execution_count": 11,
     "metadata": {},
     "output_type": "execute_result"
    }
   ],
   "source": [
    "\"\"\"\n",
    "Binary search, find the last occurance not larger than target.\n",
    "\"\"\"\n",
    "def last_occurance(nums, target):\n",
    "    left = 0\n",
    "    right = len(nums) - 1\n",
    "    while left < right:\n",
    "        mid = left + (right - left + 1) // 2\n",
    "        if nums[mid] > target:\n",
    "            right = mid - 1 \n",
    "        else:\n",
    "            left = mid \n",
    "    return left\n",
    "\n",
    "nums = [-1,0,3, 4, 4, 5,9,12]\n",
    "target = 4\n",
    "last_occurance(nums, target)"
   ]
  },
  {
   "cell_type": "markdown",
   "metadata": {},
   "source": [
    "When doing binary search, there are two pinciples in iteration:\n",
    "\n",
    "1. Shrink the searching space (to avoid infinite loop).\n",
    "\n",
    "2. Cannot remove potential answers.\n",
    "\n"
   ]
  },
  {
   "cell_type": "markdown",
   "metadata": {},
   "source": [
    "### Examples as template\n",
    "\n",
    "215, "
   ]
  },
  {
   "cell_type": "markdown",
   "metadata": {},
   "source": [
    "Leetcode problems:\n",
    "\n",
    "704, 153, 1062 ,410 (hard) ,1231 (hard), 852 (easy), 1011, 1292, 744 (smallest that is larger than)"
   ]
  },
  {
   "cell_type": "markdown",
   "metadata": {},
   "source": []
  }
 ],
 "metadata": {
  "interpreter": {
   "hash": "ad2bdc8ecc057115af97d19610ffacc2b4e99fae6737bb82f5d7fb13d2f2c186"
  },
  "kernelspec": {
   "display_name": "Python 3.7.6 ('base')",
   "language": "python",
   "name": "python3"
  },
  "language_info": {
   "codemirror_mode": {
    "name": "ipython",
    "version": 3
   },
   "file_extension": ".py",
   "mimetype": "text/x-python",
   "name": "python",
   "nbconvert_exporter": "python",
   "pygments_lexer": "ipython3",
   "version": "3.7.6"
  },
  "orig_nbformat": 4
 },
 "nbformat": 4,
 "nbformat_minor": 2
}
