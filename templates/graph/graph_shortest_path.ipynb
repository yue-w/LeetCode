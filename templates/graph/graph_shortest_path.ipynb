{
 "cells": [
  {
   "cell_type": "markdown",
   "metadata": {},
   "source": [
    "# Shortest path"
   ]
  },
  {
   "cell_type": "markdown",
   "metadata": {},
   "source": [
    "## Single source shortest path"
   ]
  },
  {
   "cell_type": "markdown",
   "metadata": {},
   "source": [
    "### Dijkstra's algorithm:\n",
    "\n",
    "Weight of edges must be non-negative.\n",
    "\n",
    "Input: A directed graph G = (V,E), a starting vertex s in V, and a nonnegative length le for each edge e in E.\n",
    "\n",
    "\n",
    "Output: dist(s, v) for every vertex v in V, where dist(s, v) is the shortest path from s to v.\n",
    "\n",
    "Ruing time: \n",
    "\n",
    "Time: O((V + E) * logV) if using the method in the book (need to replace element from heap). Or O((V + E) * logE) if do not replace element from heap (more common).\n",
    "\n",
    "Space: O(V)"
   ]
  },
  {
   "cell_type": "markdown",
   "metadata": {},
   "source": [
    "### Template\n",
    "\n",
    "1. Initialize a heap with all starting points marked with some initial costs, a hash set to record visited nodes\n",
    "\n",
    "2. While heap is not empty\n",
    "\n",
    "    a. pop out one node from heap\n",
    "\n",
    "    b. if the node has already been visited, skip it. Otherwise, mark the node as visited, do something. \n",
    "\n",
    "    c. if this is the destination node, return\n",
    "\n",
    "    d. for all of its neighbors, offer them into the heap with current node's cost + edge cost. \n",
    "        different from the algorithm book, we don't need to delete the original cost, because deleting them also has a logn cost. \n",
    "\n"
   ]
  },
  {
   "cell_type": "raw",
   "metadata": {},
   "source": [
    "Template problem\n",
    "\n",
    "743"
   ]
  },
  {
   "cell_type": "markdown",
   "metadata": {},
   "source": [
    "## Multiple source shortest path"
   ]
  },
  {
   "cell_type": "markdown",
   "metadata": {},
   "source": [
    "### Floyd-Warshall algorithm. Use Dynamic programming.\n",
    "\n",
    "Weight of edges can be negative.\n",
    "\n",
    "Time: O(n^3)\n",
    "\n",
    "Space: O(n^2)"
   ]
  },
  {
   "cell_type": "code",
   "execution_count": null,
   "metadata": {},
   "outputs": [],
   "source": [
    "## Template of Floyd-Warshall algorithm\n",
    "## m is num of edges, n is number of vertices\n",
    "\n",
    "## dp is a 2-D array, d[i][j] is the distance from node i to node j\n",
    "distances = None ## distances is the input: (node1, node2, ||node1, node2||)\n",
    "n = None ## n is the number of nodes\n",
    "dp = [[float('inf') for _ in range(n)] for _ in range(n)]\n",
    "## initialize dp. Notice that dp[i][i] is 0\n",
    "for i in range(n):\n",
    "    dp[i][i] = 0\n",
    "for n1, n2, d in distances:\n",
    "    dp[n1-1][n2-1] = d\n",
    "    \n",
    "for k in range(n):\n",
    "    for i in range(n):\n",
    "        for j in range(n):\n",
    "            dp[i][j] = min(dp[i][j], dp[i][k] + dp[k][j])\n"
   ]
  }
 ],
 "metadata": {
  "kernelspec": {
   "display_name": "Python 3.7.6 ('base')",
   "language": "python",
   "name": "python3"
  },
  "language_info": {
   "name": "python",
   "version": "3.7.6"
  },
  "orig_nbformat": 4,
  "vscode": {
   "interpreter": {
    "hash": "ad2bdc8ecc057115af97d19610ffacc2b4e99fae6737bb82f5d7fb13d2f2c186"
   }
  }
 },
 "nbformat": 4,
 "nbformat_minor": 2
}
