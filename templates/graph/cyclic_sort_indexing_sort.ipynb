{
 "cells": [
  {
   "cell_type": "markdown",
   "metadata": {},
   "source": [
    "## Cyclic sort/ Indexing sort"
   ]
  },
  {
   "cell_type": "markdown",
   "metadata": {},
   "source": [
    "Deal with problem in the form of number from 0 to n"
   ]
  },
  {
   "cell_type": "markdown",
   "metadata": {},
   "source": [
    "Examples:\n",
    "\n",
    "041.First-Missing-Positive (H)\n",
    "\n",
    "268.Missing-Number (H-) (solved)\n",
    "\n",
    "287.Find-the-Duplicate-Number (H)\n",
    "\n",
    "442.Find-All-Duplicates-in-an-Array (M)\n",
    "\n",
    "448.Find-All-Numbers-Disappeared-in-an-Array (M)\n",
    "\n",
    "645.Set-Mismatch (M)"
   ]
  },
  {
   "cell_type": "markdown",
   "metadata": {},
   "source": []
  },
  {
   "cell_type": "markdown",
   "metadata": {},
   "source": []
  }
 ],
 "metadata": {
  "kernelspec": {
   "display_name": "Python 3.7.6 ('base')",
   "language": "python",
   "name": "python3"
  },
  "language_info": {
   "name": "python",
   "version": "3.7.6"
  },
  "orig_nbformat": 4,
  "vscode": {
   "interpreter": {
    "hash": "ad2bdc8ecc057115af97d19610ffacc2b4e99fae6737bb82f5d7fb13d2f2c186"
   }
  }
 },
 "nbformat": 4,
 "nbformat_minor": 2
}
