{
 "cells": [
  {
   "cell_type": "markdown",
   "metadata": {},
   "source": [
    "### Template\n",
    "\n",
    "1. Initialize hashset to record visited nodes\n",
    "\n",
    "2. For all entry nodes, call dfs():\n",
    "\n",
    "    a. Validate current node, if visited or invlalid or answer node, return.\n",
    "\n",
    "    b. Do something (optional, if do something here, this is pre-order)\n",
    "\n",
    "    c. For each neighbour node:\n",
    "    \n",
    "        i. Validate neighbour node, if visited or invalid or answer node, don't recurse on it or return answer.\n",
    "\n",
    "        ii. Recurse down on neighbour node --> dfs()\n",
    "\n",
    "    d. Do something (optional, if do something here, this is post-order). "
   ]
  },
  {
   "cell_type": "markdown",
   "metadata": {},
   "source": [
    "Related problems:\n",
    "\n",
    "133, 399, 785, 841"
   ]
  },
  {
   "cell_type": "markdown",
   "metadata": {},
   "source": []
  }
 ],
 "metadata": {
  "language_info": {
   "name": "python"
  },
  "orig_nbformat": 4
 },
 "nbformat": 4,
 "nbformat_minor": 2
}
