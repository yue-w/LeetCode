{
 "cells": [
  {
   "cell_type": "markdown",
   "metadata": {},
   "source": [
    "Use cases:\n",
    "\n",
    "Multi-source and multi-destination shortest path problem\n"
   ]
  },
  {
   "cell_type": "markdown",
   "metadata": {},
   "source": [
    "### Template:\n",
    "\n",
    "1. Initialize a queue with ALL STARTING POINTS. a hash to record visited nodes\n",
    "\n",
    "2. While queue is not empty:\n",
    "\n",
    "    a. retrieve current queue size as number of nodes in the current level\n",
    "\n",
    "    b. for each node in current level\n",
    "\n",
    "        i.  poll out one node\n",
    "\n",
    "        ii. if this is the node we want, return it\n",
    "\n",
    "        iii. offer all its neighbors to the queue if not visited and valid\n",
    "\n",
    "    c. increase level \n",
    "\n",
    "Time O(V + E)"
   ]
  },
  {
   "cell_type": "markdown",
   "metadata": {},
   "source": [
    "Leetcode examples:\n",
    "\n",
    "934 (solved), 310(solved), 1091(solved), 863(solved), 317(lock)"
   ]
  },
  {
   "cell_type": "markdown",
   "metadata": {},
   "source": []
  }
 ],
 "metadata": {
  "language_info": {
   "name": "python"
  },
  "orig_nbformat": 4
 },
 "nbformat": 4,
 "nbformat_minor": 2
}
