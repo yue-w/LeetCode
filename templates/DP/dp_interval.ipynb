{
 "cells": [
  {
   "cell_type": "markdown",
   "metadata": {},
   "source": [
    "## DP Interval (区间型)"
   ]
  },
  {
   "cell_type": "markdown",
   "metadata": {},
   "source": [
    "### DP interval typy I （区间型 I）\n",
    "\n",
    "Given an array/sequence, solve something about dividing the array/string to k non-empty adjacent substrings/subarrays. \n",
    "\n",
    "dp[i][k]: divide string/array A[0:i+1] to k non-empty adjacent substrings/subarrays. \n",
    "\n",
    "Transition function: find the starting index for the last subinterval j. The interval A[0:i+1] into two intervals: A[0:j] and A[j:i+1], the first interval has a value of dp[j-1][k-1], and the second sub group A[j: i + 1] is one group, the corresponding value of which is easy to calculate (for example call a helper function helper(A[j:i + 1]))."
   ]
  },
  {
   "cell_type": "raw",
   "metadata": {},
   "source": [
    "### Template\n",
    "for i in range(1, n + 1):\n",
    "    for kk in range(1, min(i, k) + 1):\n",
    "        for j in range(i, kk-2, -1):"
   ]
  },
  {
   "cell_type": "markdown",
   "metadata": {},
   "source": [
    "#### Template problems\n",
    "\n",
    "Leetcode 1278, 813, 1335"
   ]
  },
  {
   "cell_type": "markdown",
   "metadata": {},
   "source": []
  },
  {
   "cell_type": "markdown",
   "metadata": {},
   "source": [
    "### DP interval typy II （区间型 II）\n",
    "\n",
    "Given an array/string A, find an optimal solution in this array/string.\n",
    "\n",
    "Break point: the optimal solutions of larger intervals can be found from smaller\n",
    "intervals\n",
    "\n",
    "Template:\n",
    "\n",
    "    1. dp[i][j]: find a solution in the interval A[i:j+1]\n",
    "\n",
    "    2. transform larger interval to smaller intervals\n",
    "        * the first loop is the length of interval\n",
    "        * the second loop is the starting point of the interval\n",
    "        * inside of the second loop solve dp[i][j] (another loop may be needed)"
   ]
  },
  {
   "cell_type": "markdown",
   "metadata": {},
   "source": [
    "### Template problems\n",
    "\n",
    "516, 375, 1246 (premium)"
   ]
  },
  {
   "cell_type": "code",
   "execution_count": null,
   "metadata": {},
   "outputs": [],
   "source": []
  },
  {
   "cell_type": "code",
   "execution_count": null,
   "metadata": {},
   "outputs": [],
   "source": []
  }
 ],
 "metadata": {
  "kernelspec": {
   "display_name": "Python 3.7.6 ('base')",
   "language": "python",
   "name": "python3"
  },
  "language_info": {
   "codemirror_mode": {
    "name": "ipython",
    "version": 3
   },
   "file_extension": ".py",
   "mimetype": "text/x-python",
   "name": "python",
   "nbconvert_exporter": "python",
   "pygments_lexer": "ipython3",
   "version": "3.7.6"
  },
  "orig_nbformat": 4,
  "vscode": {
   "interpreter": {
    "hash": "ad2bdc8ecc057115af97d19610ffacc2b4e99fae6737bb82f5d7fb13d2f2c186"
   }
  }
 },
 "nbformat": 4,
 "nbformat_minor": 2
}
