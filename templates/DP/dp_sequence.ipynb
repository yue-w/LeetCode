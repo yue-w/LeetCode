{
 "cells": [
  {
   "cell_type": "markdown",
   "metadata": {},
   "source": [
    "# DP sequence I (基本型 I)"
   ]
  },
  {
   "cell_type": "markdown",
   "metadata": {},
   "source": [
    "## Template"
   ]
  },
  {
   "cell_type": "markdown",
   "metadata": {},
   "source": [
    "Given a sequence (array/string), each element can be considerred as one day. \n",
    "The state of 'today' only depends on the state of \"yesterday.\""
   ]
  },
  {
   "cell_type": "raw",
   "metadata": {},
   "source": [
    "dp[i][j]: ith round and jth state. j = (1, 2, 3, ..., k). \n",
    "Find the relation between dp[i][j] and dp[i-1][j] for each j ."
   ]
  },
  {
   "cell_type": "markdown",
   "metadata": {},
   "source": [
    "## Example"
   ]
  },
  {
   "cell_type": "markdown",
   "metadata": {},
   "source": [
    "198. House Robber, 213. House Robber II, 122. Best Time to Buy and Sell Stock II, 123. Best Time to Buy and Sell Stock III, \n",
    "70. Climbing Stairs. 2320. Count Number of Ways to Place Houses"
   ]
  },
  {
   "cell_type": "markdown",
   "metadata": {},
   "source": [
    "# DP sequence II （基本型II)"
   ]
  },
  {
   "cell_type": "markdown",
   "metadata": {},
   "source": [
    "Given a sequence (array/string), each element can be considerred as one day. \n",
    "The state of 'today' may depends on the state of any previous days."
   ]
  },
  {
   "cell_type": "markdown",
   "metadata": {},
   "source": [
    "## Example\n",
    "\n",
    "673, 368, 1105"
   ]
  },
  {
   "cell_type": "markdown",
   "metadata": {},
   "source": [
    "# DP time sequence III double sequences（基本型III)"
   ]
  },
  {
   "cell_type": "markdown",
   "metadata": {},
   "source": [
    "## Template\n",
    "\n",
    "Given two sequences s and t.\n",
    "\n",
    "dp[i][j]: sub problems s[0:i + 1], t[:j + 1]\n",
    "\n",
    "i = 0, 1, 2, ..., m - 1, j = 0, 1, 2, ..., n - 1\n",
    "\n",
    "Transfer dp[i][j] to dp[i][j-1], dp[i-1][j], and dp[i-1][j-1]"
   ]
  },
  {
   "cell_type": "markdown",
   "metadata": {},
   "source": [
    "Examples: \n",
    "\n",
    "1143, 1092, "
   ]
  }
 ],
 "metadata": {
  "kernelspec": {
   "display_name": "Python 3.7.6 ('base')",
   "language": "python",
   "name": "python3"
  },
  "language_info": {
   "name": "python",
   "version": "3.7.6"
  },
  "orig_nbformat": 4,
  "vscode": {
   "interpreter": {
    "hash": "ad2bdc8ecc057115af97d19610ffacc2b4e99fae6737bb82f5d7fb13d2f2c186"
   }
  }
 },
 "nbformat": 4,
 "nbformat_minor": 2
}
