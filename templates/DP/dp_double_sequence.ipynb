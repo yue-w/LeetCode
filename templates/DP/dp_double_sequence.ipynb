{
 "cells": [
  {
   "cell_type": "markdown",
   "metadata": {},
   "source": [
    "# Dynamic programming - Double Sequence"
   ]
  },
  {
   "cell_type": "markdown",
   "metadata": {},
   "source": [
    "### Template problem for Longest Common Subsequence (LCS):\n",
    "\n",
    "\n",
    "In mathematics, a subsequence of a given sequence is a sequence that can be \n",
    "derived from the given sequence by deleting some or no elements without \n",
    "changing the order of the remaining elements. For example, the sequence \n",
    "[A, B, D] is a subsequence of [A, B, C, D, E, F]. \n",
    "\n",
    "1143, 583"
   ]
  },
  {
   "cell_type": "code",
   "execution_count": null,
   "metadata": {
    "vscode": {
     "languageId": "plaintext"
    }
   },
   "outputs": [],
   "source": [
    "Template for Longest common subsequence:\n",
    "\"\"\"\n",
    "Reference\n",
    "https://www.youtube.com/watch?v=CEnb7Ho7TYc&t=545s\n",
    "\n",
    "dp[i][j]: The longest common subsequence of text1[0][i] and text2[0][j].\n",
    "The transition function: \n",
    "    if text1[i] == text2[j], then dp[i][j] = dp[i-1][j-1] + 1\n",
    "    else, text1[i][j] = max(dp[i][j-1], dp[i-1][j])\n",
    "\"\"\""
   ]
  },
  {
   "cell_type": "code",
   "execution_count": null,
   "metadata": {
    "vscode": {
     "languageId": "plaintext"
    }
   },
   "outputs": [],
   "source": []
  }
 ],
 "metadata": {
  "interpreter": {
   "hash": "ad2bdc8ecc057115af97d19610ffacc2b4e99fae6737bb82f5d7fb13d2f2c186"
  },
  "kernelspec": {
   "display_name": "Python 3.7.6 ('base')",
   "language": "python",
   "name": "python3"
  },
  "language_info": {
   "codemirror_mode": {
    "name": "ipython",
    "version": 3
   },
   "file_extension": ".py",
   "mimetype": "text/x-python",
   "name": "python",
   "nbconvert_exporter": "python",
   "pygments_lexer": "ipython3",
   "version": "3.7.6"
  },
  "orig_nbformat": 4
 },
 "nbformat": 4,
 "nbformat_minor": 2
}
