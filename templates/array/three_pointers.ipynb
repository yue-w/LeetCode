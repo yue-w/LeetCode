{
 "cells": [
  {
   "cell_type": "markdown",
   "metadata": {},
   "source": [
    "## Three pointers\n"
   ]
  },
  {
   "cell_type": "markdown",
   "metadata": {},
   "source": [
    "Example/template problems:\n",
    "\n",
    "Leetcode 75, 215"
   ]
  },
  {
   "cell_type": "raw",
   "metadata": {},
   "source": [
    "S S S S E E X X X X L L L L\n",
    "        ^   ^     ^          \n",
    "        i   t     j\n",
    "\n",
    "S is element smaller than pivot, L is element larger than pivot. X are element not explored yet.\n",
    "\n",
    "i, t start from 0\n",
    "j start from n - 1\n",
    "increase t until t > j\n",
    "\n",
    "the final state is:\n",
    "S S S S E E E E E E L L L L\n",
    "        ^         ^          \n",
    "        i         j\n",
    "[0, i - 1] are smaller than pivot\n",
    "[i, j] are equal to the pivot\n",
    "[j + 1, end] are larger than the pivot."
   ]
  },
  {
   "cell_type": "markdown",
   "metadata": {},
   "source": []
  }
 ],
 "metadata": {
  "interpreter": {
   "hash": "ad2bdc8ecc057115af97d19610ffacc2b4e99fae6737bb82f5d7fb13d2f2c186"
  },
  "kernelspec": {
   "display_name": "Python 3.7.6 ('base')",
   "language": "python",
   "name": "python3"
  },
  "language_info": {
   "name": "python",
   "version": "3.7.6"
  },
  "orig_nbformat": 4
 },
 "nbformat": 4,
 "nbformat_minor": 2
}
