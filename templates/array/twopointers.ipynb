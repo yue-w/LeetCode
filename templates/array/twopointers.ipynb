{
 "cells": [
  {
   "cell_type": "markdown",
   "metadata": {},
   "source": [
    "# Two pointers"
   ]
  },
  {
   "cell_type": "markdown",
   "metadata": {},
   "source": [
    "## Same direction"
   ]
  },
  {
   "cell_type": "markdown",
   "metadata": {},
   "source": [
    "Array and pointers:\n",
    "\n",
    "[processed (keep), processed (discard), unprocessed]\n",
    "\n",
    "0 $~~~~~~~~~~~~~~~~~~~~~~~~$ i -->$~~~~~~~~~~~~~~~~~~~~~~$ j -->\n"
   ]
  },
  {
   "cell_type": "markdown",
   "metadata": {},
   "source": [
    "Steps:\n",
    "\n",
    "1. Initialize pointers i, and j, usually both equals to 0\n",
    "\n",
    "2. while j < len(array):\n",
    "    * if we need array[j], then we keep it by assigning array[i] = array[j], then update i = i + 1\n",
    "    * j = j + 1"
   ]
  },
  {
   "cell_type": "markdown",
   "metadata": {},
   "source": [
    "## Opposite direction"
   ]
  },
  {
   "cell_type": "markdown",
   "metadata": {},
   "source": [
    "Array and pointers:\n",
    "\n",
    "\n",
    "[processed, unprocessed, processed]\n",
    "\n",
    " $~~~~~~~~~~~~~~$ i --> $~~~~~~~~$ <-- j"
   ]
  },
  {
   "cell_type": "markdown",
   "metadata": {},
   "source": [
    "Steps:\n",
    "\n",
    "1. Initialize pointers i = 0, j = len(array) - 1\n",
    "\n",
    "2. while i <= j:\n",
    "    * Decide what should you do based on the value of array[i] and array[j]\n",
    "    * Move at least one pointer forward"
   ]
  },
  {
   "cell_type": "markdown",
   "metadata": {},
   "source": [
    "## Leetcode examples\n",
    "11 Coainter with most water\n",
    "\n",
    "42 Trapping rain water\n",
    "\n",
    "283 Move zeros\n",
    "\n",
    "80 Remove duplicates from sorted array II\n",
    "\n",
    "1047 Remove all adjacent duplicates in string"
   ]
  },
  {
   "cell_type": "markdown",
   "metadata": {},
   "source": []
  },
  {
   "cell_type": "markdown",
   "metadata": {},
   "source": [
    "# Sliding window"
   ]
  },
  {
   "cell_type": "markdown",
   "metadata": {},
   "source": [
    "### Examples:\n",
    "76, my implementation of QuickSort, 1004"
   ]
  },
  {
   "cell_type": "markdown",
   "metadata": {},
   "source": []
  }
 ],
 "metadata": {
  "interpreter": {
   "hash": "b3ba2566441a7c06988d0923437866b63cedc61552a5af99d1f4fb67d367b25f"
  },
  "kernelspec": {
   "display_name": "Python 3.7.6 ('base')",
   "language": "python",
   "name": "python3"
  },
  "language_info": {
   "codemirror_mode": {
    "name": "ipython",
    "version": 3
   },
   "file_extension": ".py",
   "mimetype": "text/x-python",
   "name": "python",
   "nbconvert_exporter": "python",
   "pygments_lexer": "ipython3",
   "version": "3.7.6"
  },
  "orig_nbformat": 4
 },
 "nbformat": 4,
 "nbformat_minor": 2
}
