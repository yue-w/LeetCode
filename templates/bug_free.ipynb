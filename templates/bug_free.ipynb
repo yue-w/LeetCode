{
 "cells": [
  {
   "cell_type": "markdown",
   "metadata": {},
   "source": [
    "### Lookup table (hash) for string\n",
    "When comparing two strings, check whether count of any character is smaller than 0, and the sum should be 0 too."
   ]
  },
  {
   "cell_type": "markdown",
   "metadata": {},
   "source": [
    "### Recursion base case\n",
    "\n",
    "* When solving a tree problem using recursion, make sure to check None as well as whether it is a leaf node."
   ]
  },
  {
   "cell_type": "markdown",
   "metadata": {},
   "source": []
  },
  {
   "cell_type": "markdown",
   "metadata": {},
   "source": [
    "### Avoid infinite loop\n",
    "\n",
    "1. If there is a if loop in a while loop, be sure to update condition the condition outside of the loop as well. E.g. the while loop in Leetcode 209\n",
    "\n"
   ]
  },
  {
   "cell_type": "markdown",
   "metadata": {},
   "source": [
    "### Update index in loop\n",
    "\n",
    "if the index will be changed based on conditions inside the loop, do not use for loop, use while instead. Because unlike C++, the change made inside the loop will not affect the index in a for loop. Example, leetcode 443. And see example below.\n",
    "\n"
   ]
  },
  {
   "cell_type": "code",
   "execution_count": 2,
   "metadata": {},
   "outputs": [
    {
     "name": "stdout",
     "output_type": "stream",
     "text": [
      "0\n",
      "1\n",
      "2\n",
      "3\n"
     ]
    }
   ],
   "source": [
    "for i in range(4):\n",
    "    print(i)\n",
    "    i += 2"
   ]
  },
  {
   "cell_type": "markdown",
   "metadata": {},
   "source": [
    "### Deep copy a 2-D array, use list compresion."
   ]
  },
  {
   "cell_type": "raw",
   "metadata": {},
   "source": [
    "array_tem = [x[:] for x in array]"
   ]
  },
  {
   "cell_type": "markdown",
   "metadata": {},
   "source": [
    "## Modulo operation for large number\n",
    "\n",
    "Do not forget to cast it to \"int\"\n",
    "\n",
    "M = int(1e9 + 7)\n",
    "\n",
    "return rst % M"
   ]
  },
  {
   "cell_type": "markdown",
   "metadata": {},
   "source": [
    "## Modify an object through functions (naming, binding, and mutability) "
   ]
  },
  {
   "cell_type": "code",
   "execution_count": 1,
   "metadata": {},
   "outputs": [
    {
     "name": "stdout",
     "output_type": "stream",
     "text": [
      "[1, 2, 3, 4]\n",
      "[]\n"
     ]
    }
   ],
   "source": [
    "#%%\n",
    "def clear_array_wrong(array):\n",
    "    \"\"\"\n",
    "    The parameter \"array\" will point to [], but the array passed to the function\n",
    "    is not changed.\n",
    "    \"\"\"\n",
    "    array = []\n",
    "\n",
    "def clear_array_right(array):\n",
    "    \"\"\"\n",
    "    The cleared array is returned, not the parameter \"array\" itself.\n",
    "    \"\"\"\n",
    "    array = []\n",
    "    return array\n",
    "\n",
    "array = [1,2,3,4]\n",
    "\n",
    "## wrong way to clear the array, array will stay unchanged\n",
    "clear_array_wrong(array)\n",
    "print(array)\n",
    "## right way to clear the array, array will be empty\n",
    "array = clear_array_right(array)\n",
    "print(array)"
   ]
  },
  {
   "cell_type": "markdown",
   "metadata": {},
   "source": [
    "## Binary search\n",
    "\n",
    "When doing binary search, try to compare the mid value to a fixed target value."
   ]
  },
  {
   "cell_type": "markdown",
   "metadata": {},
   "source": []
  }
 ],
 "metadata": {
  "interpreter": {
   "hash": "ad2bdc8ecc057115af97d19610ffacc2b4e99fae6737bb82f5d7fb13d2f2c186"
  },
  "kernelspec": {
   "display_name": "Python 3.7.6 ('base')",
   "language": "python",
   "name": "python3"
  },
  "language_info": {
   "codemirror_mode": {
    "name": "ipython",
    "version": 3
   },
   "file_extension": ".py",
   "mimetype": "text/x-python",
   "name": "python",
   "nbconvert_exporter": "python",
   "pygments_lexer": "ipython3",
   "version": "3.7.6"
  },
  "orig_nbformat": 4
 },
 "nbformat": 4,
 "nbformat_minor": 2
}
