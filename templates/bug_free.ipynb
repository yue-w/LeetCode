{
 "cells": [
  {
   "cell_type": "markdown",
   "metadata": {},
   "source": [
    "### Lookup table (hash) for string\n",
    "When comparing two strings, check whether count of any character is smaller than 0, and the sum should be 0 too."
   ]
  },
  {
   "cell_type": "markdown",
   "metadata": {},
   "source": [
    "### Recursion base case\n",
    "\n",
    "* When solving a tree problem using recursion, make sure to check None as well as whether it is a leaf node."
   ]
  },
  {
   "cell_type": "markdown",
   "metadata": {},
   "source": []
  },
  {
   "cell_type": "markdown",
   "metadata": {},
   "source": [
    "### Avoid infinite loop\n",
    "\n",
    "1. If there is a if loop in a while loop, be sure to update condition the condition outside of the loop as well. E.g. the while loop in Leetcode 209\n",
    "\n"
   ]
  },
  {
   "cell_type": "markdown",
   "metadata": {},
   "source": [
    "### Update index in loop\n",
    "\n",
    "if the index will be changed based on conditions inside the loop, do not use for loop, use while instead. Because unlike C++, the change made inside the loop will not affect the index in a for loop. Example, leetcode 443. And see example below.\n",
    "\n"
   ]
  },
  {
   "cell_type": "code",
   "execution_count": 2,
   "metadata": {},
   "outputs": [
    {
     "name": "stdout",
     "output_type": "stream",
     "text": [
      "0\n",
      "1\n",
      "2\n",
      "3\n"
     ]
    }
   ],
   "source": [
    "for i in range(4):\n",
    "    print(i)\n",
    "    i += 2"
   ]
  },
  {
   "cell_type": "markdown",
   "metadata": {},
   "source": [
    "### Deep copy a 2-D array, use list compresion."
   ]
  },
  {
   "cell_type": "raw",
   "metadata": {},
   "source": [
    "array_tem = [x[:] for x in array]"
   ]
  },
  {
   "cell_type": "markdown",
   "metadata": {},
   "source": [
    "## Modulo operation for large number\n",
    "\n",
    "Do not forget to cast it to \"int\"\n",
    "\n",
    "M = int(1e9 + 7)\n",
    "\n",
    "return rst % M"
   ]
  },
  {
   "cell_type": "raw",
   "metadata": {},
   "source": []
  }
 ],
 "metadata": {
  "interpreter": {
   "hash": "ad2bdc8ecc057115af97d19610ffacc2b4e99fae6737bb82f5d7fb13d2f2c186"
  },
  "kernelspec": {
   "display_name": "Python 3.7.6 ('base')",
   "language": "python",
   "name": "python3"
  },
  "language_info": {
   "codemirror_mode": {
    "name": "ipython",
    "version": 3
   },
   "file_extension": ".py",
   "mimetype": "text/x-python",
   "name": "python",
   "nbconvert_exporter": "python",
   "pygments_lexer": "ipython3",
   "version": "3.7.6"
  },
  "orig_nbformat": 4
 },
 "nbformat": 4,
 "nbformat_minor": 2
}
