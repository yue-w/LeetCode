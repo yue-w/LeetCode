{
 "cells": [
  {
   "cell_type": "markdown",
   "metadata": {},
   "source": [
    "## Bottom-up recursion\n",
    "\n",
    "* Values are passed from bottom (subproblems) up.\n",
    "\n",
    "* The current level get results returned from subproblem, do some calculation in the current level, and then return for it's parent call.\n",
    "\n",
    "* There must be a return value.\n",
    "\n",
    "General steps:\n",
    "\n",
    "1. Base case\n",
    "\n",
    "2. Call recursion function to get result from the next level\n",
    "\n",
    "3. Use the values returned from sub-problems to solve the problem in the current level. \n",
    "\n",
    "4. Do something in current level (optional)\n",
    "\n",
    "5. Return result got from step 2.\n",
    "\n",
    "Examples:\n",
    "\n",
    "All solved\n",
    "\n",
    "Leetcode 206, 110\n",
    "\n",
    "Leetcode 105? different template?"
   ]
  },
  {
   "cell_type": "markdown",
   "metadata": {},
   "source": []
  },
  {
   "cell_type": "markdown",
   "metadata": {},
   "source": [
    "### Top-down recursion\n",
    "\n",
    "* Pass value from top to bottom using parameters\n",
    "\n",
    "* Usually do not return value in the recursion\n",
    "\n",
    "General steps:\n",
    "\n",
    "1. Base case\n",
    "\n",
    "2. Do something using the value passed from parameters\n",
    "\n",
    "3. Do some operation in the current level (optional)\n",
    "\n",
    "4. Pass the parameter down to sub-problem.\n"
   ]
  },
  {
   "cell_type": "markdown",
   "metadata": {},
   "source": []
  }
 ],
 "metadata": {
  "interpreter": {
   "hash": "b3ba2566441a7c06988d0923437866b63cedc61552a5af99d1f4fb67d367b25f"
  },
  "kernelspec": {
   "display_name": "Python 3.7.6 ('base')",
   "language": "python",
   "name": "python3"
  },
  "language_info": {
   "codemirror_mode": {
    "name": "ipython",
    "version": 3
   },
   "file_extension": ".py",
   "mimetype": "text/x-python",
   "name": "python",
   "nbconvert_exporter": "python",
   "pygments_lexer": "ipython3",
   "version": "3.7.6"
  },
  "orig_nbformat": 4
 },
 "nbformat": 4,
 "nbformat_minor": 2
}
