{
 "cells": [
  {
   "cell_type": "markdown",
   "metadata": {},
   "source": [
    "### Template of BFS"
   ]
  },
  {
   "cell_type": "markdown",
   "metadata": {},
   "source": [
    "1. Initialize queue with all entry points\n",
    "\n",
    "2. While queue is not empty:\n",
    "\n",
    "    a. Get the length of the queue, length\n",
    "    \n",
    "    b. for loop for length times, pop a node from queue, do something. Then add the children of this node into queue.\n",
    "\n",
    "\n"
   ]
  },
  {
   "cell_type": "markdown",
   "metadata": {},
   "source": [
    "### Examples:\n",
    "\n",
    "All solved\n",
    "\n",
    "102 (BFS method 1 of my solution), 104, 199, 101, 103, 111, 515, 429."
   ]
  },
  {
   "cell_type": "markdown",
   "metadata": {},
   "source": []
  }
 ],
 "metadata": {
  "language_info": {
   "name": "python"
  },
  "orig_nbformat": 4
 },
 "nbformat": 4,
 "nbformat_minor": 2
}
