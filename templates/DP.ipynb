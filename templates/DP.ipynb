{
 "cells": [
  {
   "cell_type": "markdown",
   "metadata": {},
   "source": [
    "## 1 D"
   ]
  },
  {
   "cell_type": "markdown",
   "metadata": {},
   "source": [
    "### Template for DP using bottom up DFS \n",
    "\n",
    "1. Define State of subproblems\n",
    "\n",
    "2. Initialize memo to record calculated subproblems\n",
    "\n",
    "3. Return dfs(top_level_answer_state)\n",
    "\n",
    "dfs(state):\n",
    "1. Base case check\n",
    "\n",
    "2. If current problem is in memo, return its answer.\n",
    "\n",
    "3. For each subproblem \n",
    "    a. Assk subproblem for their answers --> call dfs(subproblem_state)\n",
    "\n",
    "    b. Build up current state problem answer based on subproblem answers\n",
    "\n",
    "4. Store current problem answer in memo."
   ]
  },
  {
   "cell_type": "markdown",
   "metadata": {},
   "source": [
    "### Examples:\n",
    "\n",
    "53, 243, 279, 338, 303, 140\n",
    "\n",
    "78, 90, 22, 746, 70, 35\n",
    "\n",
    "931, 62, 120, 304, 115\n",
    "\n",
    "516 873 1312 312 1000"
   ]
  },
  {
   "cell_type": "markdown",
   "metadata": {},
   "source": []
  }
 ],
 "metadata": {
  "interpreter": {
   "hash": "ad2bdc8ecc057115af97d19610ffacc2b4e99fae6737bb82f5d7fb13d2f2c186"
  },
  "kernelspec": {
   "display_name": "Python 3.7.6 ('base')",
   "language": "python",
   "name": "python3"
  },
  "language_info": {
   "codemirror_mode": {
    "name": "ipython",
    "version": 3
   },
   "file_extension": ".py",
   "mimetype": "text/x-python",
   "name": "python",
   "nbconvert_exporter": "python",
   "pygments_lexer": "ipython3",
   "version": "3.7.6"
  },
  "orig_nbformat": 4
 },
 "nbformat": 4,
 "nbformat_minor": 2
}
