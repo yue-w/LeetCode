{
 "cells": [
  {
   "cell_type": "markdown",
   "metadata": {},
   "source": [
    "## Method 1 sweeping lines \n",
    "\n",
    "https://youtu.be/d4Yw8ruN5Qc\n",
    "\n",
    "Examples:\n",
    "\n",
    "Search 扫描线 / 差分数组 at https://github.com/wisdompeak/LeetCode"
   ]
  },
  {
   "cell_type": "markdown",
   "metadata": {},
   "source": [
    "## Method 2 Sorting\n",
    "\n",
    "1. Sort by starting points: to solve finding the minimum number of intervals to cover the whole range.\n",
    "\n",
    "2. Sort by ending points: to solve finding the maximum number of intervals that are non-overlap. \n",
    "\n",
    "\n",
    "Examples: 435 (solved)"
   ]
  },
  {
   "cell_type": "markdown",
   "metadata": {},
   "source": []
  }
 ],
 "metadata": {
  "interpreter": {
   "hash": "ad2bdc8ecc057115af97d19610ffacc2b4e99fae6737bb82f5d7fb13d2f2c186"
  },
  "kernelspec": {
   "display_name": "Python 3.7.6 ('base')",
   "language": "python",
   "name": "python3"
  },
  "language_info": {
   "codemirror_mode": {
    "name": "ipython",
    "version": 3
   },
   "file_extension": ".py",
   "mimetype": "text/x-python",
   "name": "python",
   "nbconvert_exporter": "python",
   "pygments_lexer": "ipython3",
   "version": "3.7.6"
  },
  "orig_nbformat": 4
 },
 "nbformat": 4,
 "nbformat_minor": 2
}
